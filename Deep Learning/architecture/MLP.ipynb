{
 "cells": [
  {
   "cell_type": "markdown",
   "metadata": {},
   "source": [
    "### What is a Multi-Layer Perceptron?\n",
    "\n",
    "Typically Multi-Layer Perceptron does not refer strictly to the Multi-Layer Perceptron Algorithm, but rather as a blanket term for Artificial Neural Nets (ANNs), and Feedforward Nets (FF) as well.\n",
    "\n",
    "To me, all that is meant by a MLP/ANN/FF is a multple Linear + ReLu layers stacked together, with a final output/ hidden layer.\n",
    "\n",
    "Mathematically we can express the first layer as follows\n",
    "$$z_1 = W_1\\cdot x + b_1$$\n",
    "$$a_1 = ReLu(z_1)$$\n",
    "\n",
    "Then the subsequent layer\n",
    "$$a_2 = ReLu(W_2 \\cdot a_1 + b_2)$$\n",
    "\n",
    "Then the final output layer\n",
    "$$h = W_n\\cdot a_{n-1} + b_{n-1}$$"
   ]
  },
  {
   "cell_type": "code",
   "execution_count": 1,
   "metadata": {},
   "outputs": [],
   "source": [
    "# Torch Imports\n",
    "import torch\n",
    "import torch.nn as nn\n",
    "import torch.nn.functional as F"
   ]
  },
  {
   "cell_type": "code",
   "execution_count": 4,
   "metadata": {},
   "outputs": [],
   "source": [
    "class MLP(nn.Module):\n",
    "    def __init__(self, input_size, hidden_size, output_size):\n",
    "        super().__init__()\n",
    "        \n",
    "        self.mlp = nn.Sequential(\n",
    "            nn.ReLU(nn.Linear(input_size, hidden_size)),\n",
    "            nn.Linear(hidden_size, output_size)\n",
    "        )\n",
    "    \n",
    "    def forward(self, x):\n",
    "        return self.mlp(x)"
   ]
  },
  {
   "cell_type": "markdown",
   "metadata": {},
   "source": [
    "### References\n",
    "- [CS 229 Deep Learning PDF](https://cs229.stanford.edu/notes2020fall/notes2020fall/deep_learning_notes.pdf)"
   ]
  }
 ],
 "metadata": {
  "kernelspec": {
   "display_name": "Python 3",
   "language": "python",
   "name": "python3"
  },
  "language_info": {
   "codemirror_mode": {
    "name": "ipython",
    "version": 3
   },
   "file_extension": ".py",
   "mimetype": "text/x-python",
   "name": "python",
   "nbconvert_exporter": "python",
   "pygments_lexer": "ipython3",
   "version": "3.7.6"
  }
 },
 "nbformat": 4,
 "nbformat_minor": 2
}

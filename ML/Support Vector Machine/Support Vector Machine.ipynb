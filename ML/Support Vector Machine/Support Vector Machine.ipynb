{
 "cells": [
  {
   "cell_type": "code",
   "execution_count": 4,
   "metadata": {},
   "outputs": [],
   "source": [
    "import numpy as np\n",
    "import matplotlib.pyplot as plt"
   ]
  },
  {
   "cell_type": "code",
   "execution_count": 33,
   "metadata": {},
   "outputs": [],
   "source": [
    "def generate_cluster(x_mu, y_mu, tightness, N):\n",
    "    mean = [x_mu, y_mu]\n",
    "    cov = [[tightness, 0], [0, tightness]]\n",
    "\n",
    "    return np.random.multivariate_normal(mean, cov, N).T\n",
    "\n",
    "x, y = generate_cluster(2, 4, 1e-1, 200)\n",
    "x_2, y_2 = generate_cluster(4, 2, 1e-1, 200)"
   ]
  },
  {
   "cell_type": "code",
   "execution_count": 36,
   "metadata": {},
   "outputs": [],
   "source": [
    "class SVM:\n",
    "    def __init__(self):\n",
    "        pass\n",
    "    \n",
    "    def fit(self):\n",
    "        \"\"\"\n",
    "        Return\n",
    "            (Support Vectors)\n",
    "        \"\"\"\n",
    "        pass\n",
    "    \n",
    "    def test(self, x):\n",
    "        pass"
   ]
  },
  {
   "cell_type": "markdown",
   "metadata": {},
   "source": [
    "# Support Vector Machines\n",
    "\n",
    "Support Vector Machine rotate around a couple of concepts\n",
    "- **Margin**\n",
    "- **Soft Margin**"
   ]
  },
  {
   "cell_type": "markdown",
   "metadata": {},
   "source": [
    "### Linear Seperable Data\n",
    "Data that if graphed in two dimensions, can be separated by a straight line"
   ]
  },
  {
   "cell_type": "code",
   "execution_count": 35,
   "metadata": {},
   "outputs": [
    {
     "data": {
      "image/png": "[encoded data removed]",
      "text/plain": [
       "<Figure size 432x288 with 1 Axes>"
      ]
     },
     "metadata": {
      "needs_background": "light"
     },
     "output_type": "display_data"
    }
   ],
   "source": [
    "plt.figure(figsize=(6, 4))\n",
    "plt.plot(x, y, '.', color='maroon')\n",
    "plt.plot(x_2, y_2, '.', color='darkslategrey')\n",
    "plt.axis('equal')\n",
    "plt.show()"
   ]
  },
  {
   "cell_type": "markdown",
   "metadata": {},
   "source": [
    "### Margin\n",
    "\n",
    "The area between the decision boundary and either class"
   ]
  },
  {
   "cell_type": "markdown",
   "metadata": {},
   "source": [
    "### References\n",
    "- [Berkeley Notes](https://people.eecs.berkeley.edu/~jordan/courses/281B-spring04/lectures/lec6.pdf)\n",
    "- [Medium Blog](https://medium.com/bite-sized-machine-learning/support-vector-machine-explained-soft-margin-kernel-tricks-3728dfb92cee)\n",
    "- [SkLearn Plot](https://scikit-learn.org/stable/auto_examples/svm/plot_svm_margin.html)"
   ]
  }
 ],
 "metadata": {
  "kernelspec": {
   "display_name": "Python 3",
   "language": "python",
   "name": "python3"
  },
  "language_info": {
   "codemirror_mode": {
    "name": "ipython",
    "version": 3
   },
   "file_extension": ".py",
   "mimetype": "text/x-python",
   "name": "python",
   "nbconvert_exporter": "python",
   "pygments_lexer": "ipython3",
   "version": "3.7.6"
  }
 },
 "nbformat": 4,
 "nbformat_minor": 2
}

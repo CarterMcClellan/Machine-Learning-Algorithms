{
 "cells": [
  {
   "cell_type": "markdown",
   "metadata": {},
   "source": [
    "# BPE (Byte Pair Encoding)\n",
    "In this jupyter notebook we are going to walk through the Byte Pair Encoding tokenization algorithm. Byte Pair Encoding is the first of several subword tokenization algorithms. At a very high level it works in 3 steps\n",
    "1. Compute the frequency of all token pairings\n",
    "2. Choose the most frequent token pairing (t1, t2)\n",
    "3. Merge t1 and t2, treating them as a single token within our vocabulary\n",
    "\n",
    "Read the original paper: [this paper](https://arxiv.org/pdf/1508.07909.pdf)"
   ]
  },
  {
   "cell_type": "markdown",
   "metadata": {},
   "source": [
    "## Definition\n",
    "Note that throughout this document I will use the following terms\n",
    "- **Corpus** \n",
    "    - a raw unformatted text blob\n",
    "    - eg. \n",
    "    ```\n",
    "    \"CHAPTER I\n",
    "        \"Well, Prince, so Genoa and Lucca are now just family estates of the\n",
    "        Buonapartes. But I warn you, if you don't tell me that this means war,\n",
    "        if you still try to defend the infamies and horrors perpetrated by that\n",
    "        Antichrist--I really believe he is Antichrist--I will have nothing more\n",
    "        to do with you and you are no longer my friend, no longer my 'faithful\n",
    "        slave,' as you call yourself! But how do you do? I see I have frightened\n",
    "        you--sit down and tell me all the news.\"\n",
    "    ```\n",
    "- **Document** \n",
    "    - a list of strings (input to BPE)\n",
    "    - eg. \n",
    "    ```python\n",
    "    ['\"Well, Prince, so Genoa and Lucca are now just family estates of the',\n",
    "     \"Buonapartes. But I warn you, if you don't tell me that this means war,\",\n",
    "     'if you still try to defend the infamies and horrors perpetrated by that',\n",
    "     'Antichrist--I really believe he is Antichrist--I will have nothing more',\n",
    "     \"to do with you and you are no longer my friend, no longer my 'faithful\",\n",
    "     \"slave,' as you call yourself! But how do you do? I see I have frightened\",\n",
    "     'you--sit down and tell me all the news.\"']\n",
    "    ```\n",
    "- **Vocabulary**\n",
    "    - a dictionary which holds our set of tokens and their frequencies\n",
    "    - eg\n",
    "       ```bash\n",
    "            a n d </w> : 34\n",
    "            t h e </w> : 29\n",
    "            a </w> : 29\n",
    "        ```\n",
    "- **Token** \n",
    "    - an element in our vocabulary.\n",
    "    - eg. if our vocabulary is\n",
    "        ```bash\n",
    "            a n d </w> : 34\n",
    "            t h e </w> : 29\n",
    "            a </w> : 29\n",
    "        ```\n",
    "    then our tokens are\n",
    "        ```bash\n",
    "            a n d </w>\n",
    "            t h e </w>\n",
    "            a </w>\n",
    "        ```\n",
    "    \n",
    "- **Character** \n",
    "    - a single element in a string \"a\" is a character \"at\" is not a character\n",
    "    - eg if the input strings are\n",
    "    ```\n",
    "        \"abc\"\n",
    "    ```\n",
    "    - then the characters are\n",
    "    ```\n",
    "        \"a\", \"b\", \"c\"\n",
    "    ```"
   ]
  },
  {
   "cell_type": "code",
   "execution_count": 1,
   "metadata": {},
   "outputs": [],
   "source": [
    "import os, random, re, json, string\n",
    "from pathlib import Path\n",
    "from collections import defaultdict\n",
    "\n",
    "import matplotlib.pyplot as plt"
   ]
  },
  {
   "cell_type": "markdown",
   "metadata": {},
   "source": [
    "## Dataset\n",
    "\n",
    "To demonstrate how this tokenization algorithm works we first need a sample corpus. I pulled War and Peace as a raw text file from [here](https://raw.githubusercontent.com/mmcky/nyu-econ-370/master/notebooks/data/book-war-and-peace.txt), and I've implemented several simple rules to ensure that the the sample sentences which we pull are interesting"
   ]
  },
  {
   "cell_type": "code",
   "execution_count": 2,
   "metadata": {},
   "outputs": [],
   "source": [
    "def get_example_document(corpus):\n",
    "    \"\"\" returns list of strings (sentences from war and peace) \"\"\"\n",
    "    example_sentences = []\n",
    "    MIN_NUM_CHARACTERS, SAMPLE_PROB, CAPACITY = 5, .1, 50\n",
    "    with open(corpus, \"r\") as f:\n",
    "        for sentence in f.readlines():\n",
    "            # strip whitespace, remove all new lines\n",
    "            sentence = sentence.strip().replace(\"\\n\", \"\").lower()\n",
    "            sentence = sentence.translate(str.maketrans('', '', string.punctuation))\n",
    "            # all sentences myst have at least \n",
    "            # {MIN_NUM_CHARACTERS}\n",
    "            if len(sentence) > MIN_NUM_CHARACTERS:\n",
    "                \n",
    "                # sample sentences with probability\n",
    "                # {SAMPLE_PROB}\n",
    "                if random.random() < SAMPLE_PROB:\n",
    "                    example_sentences.append(sentence)\n",
    "            \n",
    "            # we never want to sample more than\n",
    "            # {CAPACITY} sentences from our corpus\n",
    "            if len(example_sentences) >= CAPACITY:\n",
    "                break\n",
    "    return example_sentences"
   ]
  },
  {
   "cell_type": "code",
   "execution_count": 3,
   "metadata": {},
   "outputs": [],
   "source": [
    "corpus = os.path.join(Path(os.getcwd()).parent.parent, \"Datasets\", \"war_and_peace.txt\")"
   ]
  },
  {
   "cell_type": "code",
   "execution_count": 4,
   "metadata": {},
   "outputs": [],
   "source": [
    "example_document = get_example_document(corpus)"
   ]
  },
  {
   "cell_type": "markdown",
   "metadata": {},
   "source": [
    "## Implementation"
   ]
  },
  {
   "cell_type": "code",
   "execution_count": 5,
   "metadata": {},
   "outputs": [],
   "source": [
    "# utility functions\n",
    "\n",
    "def print_helper(vocab, N):\n",
    "    \"\"\"prints the top {N} tokens and their counts in the given vocabulary\"\"\"\n",
    "    sorted_by_count = sorted(list(vocab.items()), key=lambda x: x[1], reverse=True)[:N]\n",
    "    for key, val in sorted_by_count:\n",
    "        print(\"{} : {}\".format(key, val))\n",
    "    \n",
    "    if N > len(vocab):\n",
    "        print(\"\\tetc...\")\n",
    "        \n",
    "def get_tokens(vocab):\n",
    "    \"\"\"\n",
    "    input:\n",
    "        eg. {}\n",
    "    \"\"\"\n",
    "    tokens = defaultdict(int)\n",
    "    vocab_tokenization = {}\n",
    "    for word, freq in vocab.items():\n",
    "        word_tokens = word.split()\n",
    "        for token in word_tokens:\n",
    "            tokens[token] += freq\n",
    "        vocab_tokenization[''.join(word_tokens)] = word_tokens\n",
    "    return tokens, vocab_tokenization\n",
    "\n",
    "def measure_token_length(token):\n",
    "    if token[-4:] == '</w>':\n",
    "        return len(token[:-4]) + 1\n",
    "    else:\n",
    "        return len(token)"
   ]
  },
  {
   "cell_type": "markdown",
   "metadata": {},
   "source": [
    "### Step 1) Generate Vocabulary"
   ]
  },
  {
   "cell_type": "code",
   "execution_count": 6,
   "metadata": {},
   "outputs": [],
   "source": [
    "def get_vocab(document):\n",
    "    \"\"\"\n",
    "    split every element in the document\n",
    "    by whitespace \" \"\n",
    "        eg. \"the cat in the hat\" -> [the, cat, in, the, hat]\n",
    "    \n",
    "    split each word into a list of characters,\n",
    "    add a whitespace on the end, and the string '</w>'\n",
    "    to denote the end of a word \n",
    "        eg [the, cat, in, the, hat] -> ['t h e </w>', 'c a t </w>', 'i n </w>', 'h a t </w>']\n",
    "    \"\"\"\n",
    "    vocab = defaultdict(int)\n",
    "    for sentence in document:\n",
    "        word_tokens = sentence.strip().split()\n",
    "        for token in word_tokens:\n",
    "            vocab[' '.join(list(token)) + ' </w>'] += 1\n",
    "\n",
    "    return vocab"
   ]
  },
  {
   "cell_type": "code",
   "execution_count": 7,
   "metadata": {},
   "outputs": [
    {
     "name": "stdout",
     "output_type": "stream",
     "text": [
      "t h e </w> : 26\n",
      "a n d </w> : 15\n",
      "o f </w> : 15\n",
      "t o </w> : 12\n",
      "a </w> : 12\n",
      "i n </w> : 11\n",
      "t h a t </w> : 9\n",
      "i </w> : 8\n",
      "y o u </w> : 8\n",
      "a n n a </w> : 8\n"
     ]
    }
   ],
   "source": [
    "starting_vocab = get_vocab(example_document)\n",
    "print_helper(starting_vocab, 10)"
   ]
  },
  {
   "cell_type": "markdown",
   "metadata": {},
   "source": [
    "### Step 2) Count Character Pairings"
   ]
  },
  {
   "cell_type": "code",
   "execution_count": 8,
   "metadata": {},
   "outputs": [],
   "source": [
    "def most_frequent_token_pairs(vocab):\n",
    "    \"\"\"\n",
    "    iterate through vocab tokens character by character\n",
    "    finding the most common adjacencies\n",
    "    \n",
    "    eg.\n",
    "        vocab = {'c a t </w>' : 10, 'h a t </w>' : 2}\n",
    "    \n",
    "        most_frequent_token_pairs(vocab) = \n",
    "            {('c', 'a'): 10, ('a', 't'): 12, ('t', '</w>'): 12, ('h', 'a'): 2})\n",
    "            \n",
    "    note that the frequencies of given tokens are added onto the pairs\n",
    "    \"\"\"\n",
    "    pairs = defaultdict(int)\n",
    "    for token, freq in vocab.items():\n",
    "        characters = token.split()\n",
    "        for i in range(len(characters)-1):\n",
    "            pairs[characters[i],characters[i+1]] += freq\n",
    "    return pairs"
   ]
  },
  {
   "cell_type": "code",
   "execution_count": 9,
   "metadata": {},
   "outputs": [
    {
     "name": "stdout",
     "output_type": "stream",
     "text": [
      "('e', '</w>') : 104\n",
      "('d', '</w>') : 71\n",
      "('t', 'h') : 64\n",
      "('h', 'e') : 62\n",
      "('t', '</w>') : 48\n",
      "('i', 'n') : 47\n",
      "('e', 'r') : 45\n",
      "('s', '</w>') : 43\n",
      "('h', 'a') : 39\n",
      "('a', 'n') : 38\n"
     ]
    }
   ],
   "source": [
    "starting_vocab = get_vocab(example_document)\n",
    "character_pair_frequency = most_frequent_token_pairs(starting_vocab)\n",
    "print_helper(character_pair_frequency, 10)"
   ]
  },
  {
   "cell_type": "markdown",
   "metadata": {},
   "source": [
    "### Step 3) Merging Vocab"
   ]
  },
  {
   "cell_type": "code",
   "execution_count": 10,
   "metadata": {},
   "outputs": [],
   "source": [
    "def merge_vocab(pair, v_in):\n",
    "    \"\"\"\n",
    "    BPE starts by represents all characters in a word as\n",
    "    standalone characters (note how they are delimited by \n",
    "    spaces)\n",
    "    \n",
    "    eg. t h e </w>\n",
    "    \n",
    "    if we had an input pair (e, </w>), meaning that the two\n",
    "    characters which most often follower each other were \"e\"\n",
    "    followed by the endword token \"</w>\" then we would want \n",
    "    to merge these two tokens into one single token \"e</w>\"\n",
    "    \n",
    "    eg. t h e </w> -(merge operation)-> t h e</w>\n",
    "    \"\"\"\n",
    "    v_out = {}\n",
    "    bigram = re.escape(' '.join(pair))\n",
    "    p = re.compile(r'(?<!\\S)' + bigram + r'(?!\\S)')\n",
    "    for word in v_in:\n",
    "        w_out = p.sub(''.join(pair), word)\n",
    "        v_out[w_out] = v_in[word]\n",
    "    return v_out"
   ]
  },
  {
   "cell_type": "code",
   "execution_count": 11,
   "metadata": {},
   "outputs": [
    {
     "name": "stdout",
     "output_type": "stream",
     "text": [
      "t h e</w> : 26\n",
      "a n d </w> : 15\n",
      "o f </w> : 15\n",
      "t o </w> : 12\n",
      "a </w> : 12\n",
      "i n </w> : 11\n",
      "t h a t </w> : 9\n",
      "i </w> : 8\n",
      "y o u </w> : 8\n",
      "a n n a </w> : 8\n"
     ]
    }
   ],
   "source": [
    "pair, count = max(character_pair_frequency.items(), key=lambda x: x[1])\n",
    "new_vocab = merge_vocab(pair, starting_vocab)\n",
    "print_helper(new_vocab, 10)"
   ]
  },
  {
   "cell_type": "markdown",
   "metadata": {},
   "source": [
    "### Putting it all Together"
   ]
  },
  {
   "cell_type": "code",
   "execution_count": 12,
   "metadata": {},
   "outputs": [],
   "source": [
    "def bpe(vocab, num_merges):\n",
    "    \"\"\" putting together all the steps to create BPE\"\"\"\n",
    "    most_common_pairings = []\n",
    "    vocab_lengths = []\n",
    "    \n",
    "    for _ in range(num_merges):\n",
    "        \n",
    "        # 1.Compute the frequency of all token pairings\n",
    "        token_pairings = most_frequent_token_pairs(vocab)\n",
    "        \n",
    "        # edge case:\n",
    "        #   if there is no whitespaces in the tokens,\n",
    "        #   most_frequent_token_pairs returns an empty dict\n",
    "        if token_pairings:\n",
    "            # 2. Choose the most frequent token pairing (t1, t2)\n",
    "            most_common_pairing, _ = max(token_pairings.items(), key=lambda x: x[1])\n",
    "            most_common_pairings.append(most_common_pairing)\n",
    "\n",
    "            # 3. Merge t1 and t2, treating them as a single token within our vocabulary\n",
    "            vocab = merge_vocab(most_common_pairing, vocab)\n",
    "            tokens, _ = get_tokens(vocab)\n",
    "            vocab_lengths.append(len(tokens))\n",
    "        else:\n",
    "            break\n",
    "    \n",
    "    return vocab, most_common_pairings, vocab_lengths  "
   ]
  },
  {
   "cell_type": "code",
   "execution_count": 28,
   "metadata": {},
   "outputs": [],
   "source": [
    "initial_vocab = get_vocab(example_document)\n",
    "final_vocab, most_common_pairings, vocab_lengths = bpe(initial_vocab, 500)"
   ]
  },
  {
   "cell_type": "markdown",
   "metadata": {},
   "source": [
    "### BPE Performance\n",
    "How do we expect BPE to perform? We know that the intial vocab size is going to increase as we merge unigrams into bigrams (there are going to be more unigrams than bigrams). We also expect that after a certain number of merges our vocab will decrease as n-grams become words"
   ]
  },
  {
   "cell_type": "code",
   "execution_count": 29,
   "metadata": {},
   "outputs": [
    {
     "data": {
      "text/plain": [
       "[<matplotlib.lines.Line2D at 0x7fb426f2e910>]"
      ]
     },
     "execution_count": 29,
     "metadata": {},
     "output_type": "execute_result"
    },
    {
     "data": {
      "image/png": "[encoded data removed]",
      "text/plain": [
       "<Figure size 432x288 with 1 Axes>"
      ]
     },
     "metadata": {
      "needs_background": "light"
     },
     "output_type": "display_data"
    }
   ],
   "source": [
    "plt.xlabel(\"Number of Merges\")\n",
    "plt.ylabel(\"Number of Tokens\")\n",
    "plt.plot(range(len(vocab_lengths)), vocab_lengths)"
   ]
  },
  {
   "cell_type": "markdown",
   "metadata": {},
   "source": [
    "### Encoding and Decoding\n",
    "Once we have determined our subword pairings\n",
    "- how do we encode sentences?\n",
    "- how do we decode encoded sentences?\n",
    "- what do we tokenize first?"
   ]
  },
  {
   "cell_type": "markdown",
   "metadata": {},
   "source": [
    "### Encoding Sentences\n",
    "Encoding Sentenes is fairly tricky. BPE is a greedy algorithm, meaning the first tokens we encode are the most frequent tokens. The code works out roughly to \n",
    "- split the sentence into a list of words\n",
    "    - replace subword tokens within word until \n",
    "        - either we have traverse the full vocabulary\n",
    "        - or the word is full tokenized\n",
    "    - if there are any characters at the end which are not recognized as tokens, replace them with \"\\<u\\>\" or \"unknown token\""
   ]
  },
  {
   "cell_type": "code",
   "execution_count": 15,
   "metadata": {},
   "outputs": [],
   "source": [
    "def subword_encode(word, sorted_tokens):\n",
    "    \"\"\" wrap all subword tokens with || and unkown tokens with <u>\"\"\"   \n",
    "    word = re.escape(word)\n",
    "    for token in sorted_tokens:\n",
    "        \n",
    "        if token in word:\n",
    "            subwords = re.split(\"(\\|.*?\\|)\", word)\n",
    "            # exit case:\n",
    "            # subword tokens already found\n",
    "            if all([subword.startswith(\"|\") for subword in subwords if subword]):\n",
    "                break\n",
    "                \n",
    "            new_word = []\n",
    "            for subword in subwords:\n",
    "                # edge case: treat </w> as a single character\n",
    "                if token == \"w\" and \"</w>\" in subword and not subword.startswith(\"|\"):\n",
    "                    eow_idx = subword.find(\"</w>\")\n",
    "                    subword = subword[:eow_idx].replace(token, \"|{}|\".format(token)) + \"</w>\"\n",
    "                \n",
    "                # if subword is already a token, skip\n",
    "                elif not subword.startswith(\"|\"):\n",
    "                    subword = subword.replace(token, \"|{}|\".format(token))\n",
    "\n",
    "                new_word.append(subword)\n",
    "\n",
    "            word = ''.join(new_word)\n",
    "            \n",
    "    # replace all tokens not in vocab with unknown\n",
    "    subwords = re.split(\"(\\|.*?\\|)\", word)\n",
    "    new_word = []\n",
    "    for subword in subwords:\n",
    "        if subword:\n",
    "            if not subword.startswith(\"|\"):\n",
    "                subword = subword.replace(subword, \"|<u>|\")\n",
    "            new_word.append(subword)\n",
    "    word = ''.join(new_word)\n",
    "    \n",
    "    return word\n",
    "\n",
    "def encode(sentence, sorted_tokens):\n",
    "    \"\"\" \n",
    "    Split a sentence into word and subword tokens.\n",
    "    If the entire word is in our vocabulary, the thats the token\n",
    "    else break the word into subword tokens\n",
    "    \"\"\"\n",
    "    # preprocess sentence in same way vocab is created\n",
    "    sentence = sentence.strip().replace(\"\\n\", \"\").lower()\n",
    "    sentence = sentence.translate(str.maketrans('', '', string.punctuation))\n",
    "    \n",
    "    words = sentence.split()\n",
    "    tokens = []\n",
    "    for word in words:\n",
    "        word = word + \"</w>\"\n",
    "        subwords = subword_encode(word, sorted_tokens)\n",
    "        tokens.append(subwords)\n",
    "\n",
    "    return tokens"
   ]
  },
  {
   "cell_type": "markdown",
   "metadata": {},
   "source": [
    "### Decoding Sentences\n",
    "Unlike encoding, decoding lists of tokens into sentences is fairly easy! Just remove the \\\"\\|\\\" and \\\"\\<w\\>\\\" characters and concatenate the sentence together (with spaces)"
   ]
  },
  {
   "cell_type": "code",
   "execution_count": 16,
   "metadata": {},
   "outputs": [],
   "source": [
    "def decode(tokens):\n",
    "    \"\"\" reconstruct sentence from original word \"\"\"\n",
    "    decoded_result = []\n",
    "    for token in tokens:\n",
    "        token = token.replace(\"|\", \"\").replace(\"</w>\", \"\")\n",
    "        decoded_result.append(token)\n",
    "    return \" \".join(decoded_result)"
   ]
  },
  {
   "cell_type": "markdown",
   "metadata": {},
   "source": [
    "### Final Demonstration\n",
    "Now that we have implemented our encoding and decoding, lets see if BPE is working! "
   ]
  },
  {
   "cell_type": "code",
   "execution_count": 30,
   "metadata": {},
   "outputs": [
    {
     "name": "stdout",
     "output_type": "stream",
     "text": [
      "====================================================================================================\n",
      "              Input: current of his thoughts that anatole is costing me forty thousand              \n",
      "====================================================================================================\n",
      "====================================================================================================\n",
      "Encoding:\n",
      "\tcurrent:|c||u||r||re||n||t||</w>|\n",
      "\tof:|of</w>|\n",
      "\this:|h||i||s||</w>|\n",
      "\tthoughts:|t||h||o||u||g||h||t||s||</w>|\n",
      "\tthat:|that</w>|\n",
      "\tanatole:|a||n||a||t||o||l||e||</w>|\n",
      "\tis:|i||s||</w>|\n",
      "\tcosting:|c||o||s||t||i||n||g||</w>|\n",
      "\tme:|m||e||</w>|\n",
      "\tforty:|f||o||r||t||y</w>|\n",
      "\tthousand:|t||h||o||u||s||and</w>|\n",
      "====================================================================================================\n",
      "====================================================================================================\n",
      "         Decoded Output: current of his thoughts that anatole is costing me forty thousand          \n",
      "====================================================================================================\n"
     ]
    }
   ],
   "source": [
    "# step 1) get the most common tokens in the vocab\n",
    "tokens_frequency, tokenized_vocab = get_tokens(final_vocab)\n",
    "sorted_tokens_tuple = sorted(tokens_frequency.items(), key=lambda x : x[1], reverse=True)\n",
    "sorted_tokens, counts = zip(*sorted_tokens_tuple)\n",
    "\n",
    "# step 2) select random input sentence\n",
    "src = random.choice(example_document)\n",
    "\n",
    "# step 3) encode sentence using sorted tokens\n",
    "# note: order matters (see weaknesses section below)\n",
    "encoding = encode(src, sorted_tokens)\n",
    "\n",
    "# step 4) decode encoded sentence\n",
    "# should be same as input sentence\n",
    "decoding = decode(encoding)\n",
    "\n",
    "print(\"=\"*100)\n",
    "print(\"Input: {}\".format(src).center(100))\n",
    "print(\"=\"*100)\n",
    "print(\"=\"*100)\n",
    "print(\"Encoding:\")\n",
    "for original, encoded in zip(src.split(), encoding):\n",
    "    print(\"\\t{}:{}\".format(original, encoded))\n",
    "print(\"=\"*100)\n",
    "print(\"=\"*100)\n",
    "print(\"Decoded Output: {}\".format(src).center(100))\n",
    "print(\"=\"*100)"
   ]
  },
  {
   "cell_type": "markdown",
   "metadata": {},
   "source": [
    "### Weaknesses of BPE\n",
    "With BPE one of the largest downsides is ambiguity.\n",
    "- Ambiguity - sometimes there are several different ways to use a byte pair table to encode a single word or phrase. For example imagine out list of subword tokens is \n",
    "$$\\text{[c, a, t, at]}$$\n",
    "thus in this context the word cat can be broken down as either \n",
    "$$\\text{[c, a, t] or [c, at]}$$\n",
    "\n",
    "Note that BPE is deterministic. It might be ambiguous to us which tokenization method BPE will chose, but it will always choose the same one, the goal then is not to prohibit this from happening but to make sure the tokens which are chosen are the correct tokens."
   ]
  },
  {
   "cell_type": "markdown",
   "metadata": {},
   "source": [
    "### References\n",
    "- [Lei Mao: Byte Pair Encoding](https://leimao.github.io/blog/Byte-Pair-Encoding)\n",
    "- [The Original Paper](https://arxiv.org/pdf/1508.07909.pdf)"
   ]
  }
 ],
 "metadata": {
  "kernelspec": {
   "display_name": "Python 3",
   "language": "python",
   "name": "python3"
  },
  "language_info": {
   "codemirror_mode": {
    "name": "ipython",
    "version": 3
   },
   "file_extension": ".py",
   "mimetype": "text/x-python",
   "name": "python",
   "nbconvert_exporter": "python",
   "pygments_lexer": "ipython3",
   "version": "3.7.6"
  }
 },
 "nbformat": 4,
 "nbformat_minor": 4
}

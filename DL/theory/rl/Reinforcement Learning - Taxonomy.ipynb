{
 "cells": [
  {
   "cell_type": "markdown",
   "metadata": {},
   "source": [
    "### References\n",
    "- [Spinning Up Rl](https://spinningup.openai.com/en/latest/spinningup/rl_intro2.html)"
   ]
  },
  {
   "cell_type": "markdown",
   "metadata": {},
   "source": [
    "### Model Free vs Model Based \n",
    "\n",
    "**Model** refers to a model of the r.l enviroment. By learning a model of its enviroment, an r.l agent can predict state transitions and rewards.\n",
    "\n",
    "Upside\n",
    "- Worked well in AlphaZero\n",
    "- Can result in improvement over methods which dont have a model\n",
    "\n",
    "Downside\n",
    "- Ground truth of enviroment is not available to the agent (its all learned), and thats bad because learning to model an enviroment can be hard!\n",
    "\n",
    "Algorithms which use a model are called **model-based**, those that dont are called **model-free**. The model-free approach tends to be a lot more popular."
   ]
  },
  {
   "cell_type": "markdown",
   "metadata": {},
   "source": [
    "### Learning in Model Free\n",
    "\n",
    "If the model is given, what do we still need to learn?\n",
    "- policies\n",
    "- action-value functions\n",
    "- value functions\n",
    "\n",
    "yep!\n",
    "\n",
    "#### Policies\n",
    "If we are learning **policies**, then we are using a **Policy Optimization** algorithm. Policy Optimization algorithms represent a policy by $\\pi_\\theta (a~|~s)$. They optimize parameters $\\theta$ using gradient ascent using some cost function $J$ or some proxy of $J$. The optimization is performed **on-policy** which means that each update uses the most recent version of the policy.\n",
    "\n",
    "#### Action Value Functions"
   ]
  }
 ],
 "metadata": {
  "kernelspec": {
   "display_name": "Python 3",
   "language": "python",
   "name": "python3"
  },
  "language_info": {
   "codemirror_mode": {
    "name": "ipython",
    "version": 3
   },
   "file_extension": ".py",
   "mimetype": "text/x-python",
   "name": "python",
   "nbconvert_exporter": "python",
   "pygments_lexer": "ipython3",
   "version": "3.7.6"
  }
 },
 "nbformat": 4,
 "nbformat_minor": 2
}

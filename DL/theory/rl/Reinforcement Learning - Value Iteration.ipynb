{
 "cells": [
  {
   "cell_type": "markdown",
   "metadata": {},
   "source": [
    "### Value Iteration\n",
    "- [CS 229 RL Notes](https://cs229.stanford.edu/notes2020fall/notes2020fall/cs229-notes12.pdf)"
   ]
  },
  {
   "cell_type": "code",
   "execution_count": 1,
   "metadata": {},
   "outputs": [],
   "source": [
    "def one_step(actions, P, state, V):\n",
    "    \"\"\"\n",
    "    for all possible actions tied to a single state\n",
    "        find the expected value of the action\n",
    "    \n",
    "    return the action with the highest e.v\n",
    "    \"\"\"\n",
    "    actions = {a : 0 for a in actions}\n",
    "    for a in actions:\n",
    "        for (prob, next_state, reward) in P[state][a]:\n",
    "            actions[a] += prob * (reward + gamma * V[next_state])\n",
    "    best_action = max(actions)\n",
    "    return best_action\n",
    "            \n",
    "def value_iteration(states, rewards):\n",
    "    converged, V = False, {s : 0 for s in states}\n",
    "    while not converged:\n",
    "        delta = 0\n",
    "        for s in states:\n",
    "            best_action = one_step(s, V)\n",
    "            # across all states\n",
    "            # what is the largest diff between best action\n",
    "            # and whatever that value was before\n",
    "            delta = max(delta, abs(best_action - V[s]))\n",
    "            V[s] = best_action\n",
    "        \n",
    "        # if the delta gets small enough\n",
    "        # -> better actions are not being found\n",
    "        # for any state -> break\n",
    "        converged = (delta < STOPPING_THESHOLD)\n",
    "    \n",
    "    policy = {}\n",
    "    for s in states:\n",
    "        policy[s] = one_step(s, V)\n",
    "    return policy"
   ]
  }
 ],
 "metadata": {
  "kernelspec": {
   "display_name": "Python 3",
   "language": "python",
   "name": "python3"
  },
  "language_info": {
   "codemirror_mode": {
    "name": "ipython",
    "version": 3
   },
   "file_extension": ".py",
   "mimetype": "text/x-python",
   "name": "python",
   "nbconvert_exporter": "python",
   "pygments_lexer": "ipython3",
   "version": "3.7.6"
  }
 },
 "nbformat": 4,
 "nbformat_minor": 2
}

{
 "cells": [
  {
   "cell_type": "markdown",
   "metadata": {},
   "source": [
    "### Writing the Value Function Recursively\n",
    "\n",
    "Looking at our original value function\n",
    "$$E\\left[R(s_0, a_0) + \\gamma R(s_1, a_1) + \\gamma^2 R(s_2, a_2) + \\ldots ~|~ s_0=s, \\pi\\right] = V^{\\pi_\\theta}(s)$$\n",
    "\n",
    "We can rewrite it using several basic properties of conditional expectation (linearity and independent r.v)\n",
    "$$V^{\\pi_\\theta}(s) = E\\left[R(s_0, a_0)~|~ s_0=s, \\pi\\right] + \\gamma E[R(s_1, a_1) + \\gamma R(s_2, a_2) + \\ldots] $$\n",
    "$$ = R(s_0, a_0) + \\gamma E[R(s_1, a_1) + \\gamma R(s_2, a_2) + \\ldots]$$\n",
    "\n",
    "Now using the **partition theorem** \n",
    "$$E[X] = \\sum_n E[X~|~B_n] P(B_n)$$\n",
    "of conditional expectation we rewrite\n",
    "\n",
    "$$E[R(s_1, a_1) + \\gamma R(s_2, a_2) + \\ldots] = \\sum_{s' \\in S} E[R(s_1, a_1) + \\gamma R(s_2, a_2) + \\ldots ~|~ s_1=s'] \\cdot P(s') = \\sum_{s' \\in S} V^{\\pi_\\theta}(s') \\cdot P(s')$$\n",
    "\n",
    "Thus proving\n",
    "$$V^{\\pi_\\theta}(s) = R(s_0, a_0) + \\sum_{s' \\in S} V^{\\pi_\\theta}(s') \\cdot P(s')$$\n",
    "\n",
    "and\n",
    "\n",
    "$$V^{*}(s) = R(s_0, a_0) + \\max_{a \\in A} \\sum_{s' \\in S} V^{*}(s') \\cdot P(s')$$\n",
    "\n",
    "From this, we also introduce the **optimal policy**\n",
    "$$\\pi^* = \\max_{a \\in A} \\sum_{s' \\in S} V^{*}(s') \\cdot P(s')$$"
   ]
  },
  {
   "cell_type": "markdown",
   "metadata": {},
   "source": [
    "### Value Iteration\n",
    "\n",
    "```python\n",
    "def value_iteration(states, rewards):\n",
    "    value_functions = {s : 0 for s in states}\n",
    "    while not converged:\n",
    "        for s in states:\n",
    "            [gamma * for a in actions[s]\n",
    "            value_functions[s] += rewards[s] + \n",
    "```"
   ]
  }
 ],
 "metadata": {
  "kernelspec": {
   "display_name": "Python 3",
   "language": "python",
   "name": "python3"
  },
  "language_info": {
   "codemirror_mode": {
    "name": "ipython",
    "version": 3
   },
   "file_extension": ".py",
   "mimetype": "text/x-python",
   "name": "python",
   "nbconvert_exporter": "python",
   "pygments_lexer": "ipython3",
   "version": "3.7.6"
  }
 },
 "nbformat": 4,
 "nbformat_minor": 2
}

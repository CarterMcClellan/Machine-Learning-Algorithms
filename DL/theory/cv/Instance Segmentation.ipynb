{
 "cells": [
  {
   "cell_type": "markdown",
   "metadata": {},
   "source": [
    "# Instance Segmentation"
   ]
  },
  {
   "cell_type": "markdown",
   "metadata": {},
   "source": [
    "### Problem Statement\n",
    "Instance Segmentation vs Semantic Segmentation\n",
    "\n",
    "Similarities\n",
    "- Both trying to classify pixels in an input image\n",
    "\n",
    "Differences\n",
    "- Instance Segmentation views 2 adjacent objects of the same class as 2 different objects.\n",
    "- Semantic Segmentation views 2 adjacent objects of the same class as the 1 object."
   ]
  },
  {
   "cell_type": "markdown",
   "metadata": {},
   "source": [
    "### Approach - Mask R-CNN\n",
    "\n",
    "Its a lot like Faster R-CNN, its a Multi-Task network, trained to do a whole bunch of things."
   ]
  }
 ],
 "metadata": {
  "kernelspec": {
   "display_name": "Python 3",
   "language": "python",
   "name": "python3"
  },
  "language_info": {
   "codemirror_mode": {
    "name": "ipython",
    "version": 3
   },
   "file_extension": ".py",
   "mimetype": "text/x-python",
   "name": "python",
   "nbconvert_exporter": "python",
   "pygments_lexer": "ipython3",
   "version": "3.7.6"
  }
 },
 "nbformat": 4,
 "nbformat_minor": 2
}

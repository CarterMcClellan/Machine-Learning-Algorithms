{
 "cells": [
  {
   "cell_type": "markdown",
   "metadata": {},
   "source": [
    "# Classification + Localization"
   ]
  },
  {
   "cell_type": "markdown",
   "metadata": {},
   "source": [
    "### Problem Statement\n",
    "\n",
    "You are given an image of dimension $H$ by $W$, and a set of labels (eg, `cat, tree, sky`) ($\\| \\text{classes}\\| = C$). Your goal is to predict the image class, and to return a set of coordinates which bounds the object in the image. (note that we are assuming there is really only one \"thing\" in the image, if there were multiple things the task would be **Object Detection**)\n",
    "\n",
    "For instance,\n",
    "```\n",
    "(image)               # classification, (x, y, w, h)\n",
    "[[0.23, 0.05], ---->  (cat, [1, 0, 1, 1]\n",
    " [0.15, 0.03]]        \n",
    "```"
   ]
  },
  {
   "cell_type": "markdown",
   "metadata": {},
   "source": [
    "### Approach\n",
    "\n",
    "First generate a large feature map using one of the larger convolutional neural nets (vgg, resnet, ... whatever). Then we have 2 separate fully connnected layers\n",
    "- Layer 1 is a fully connected layer `(feat_map, 1)` which predicts the class label (Classification Layer)\n",
    "- Layer 2 is a fully connected layer `(feat_map, 4)` which predicts the bounding box dimensions (Bounding Box Layer)\n",
    "\n",
    "Given that we have 2 outputs, we now also have 2 losses\n",
    "- Clasification Layer will use Softmax Loss (SL)\n",
    "- Bounding Box Layer will use L2 Loss\n",
    "\n",
    "Dealing with 2 outputs like this implies that we are going to use a **Multi-Task Loss (MTL)**, which means the Gradient will be calculated using the loss from each task, e.g\n",
    "\n",
    "$$\\text{Multi-Task Loss} = \\alpha \\cdot \\text{Softmax Loss} + (1 - \\alpha) \\cdot \\text{L2 Loss} $$\n",
    "\n",
    "$$\\alpha \\in (0, 1)$$"
   ]
  },
  {
   "cell_type": "markdown",
   "metadata": {},
   "source": [
    "### References\n",
    "- [CS 231n Lecture 11 - Detection and Segmentation](https://www.youtube.com/watch?v=nDPWywWRIRo)"
   ]
  }
 ],
 "metadata": {
  "kernelspec": {
   "display_name": "Python 3",
   "language": "python",
   "name": "python3"
  },
  "language_info": {
   "codemirror_mode": {
    "name": "ipython",
    "version": 3
   },
   "file_extension": ".py",
   "mimetype": "text/x-python",
   "name": "python",
   "nbconvert_exporter": "python",
   "pygments_lexer": "ipython3",
   "version": "3.7.6"
  }
 },
 "nbformat": 4,
 "nbformat_minor": 2
}

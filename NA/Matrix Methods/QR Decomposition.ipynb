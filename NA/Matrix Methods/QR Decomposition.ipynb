{
 "cells": [
  {
   "cell_type": "markdown",
   "metadata": {},
   "source": [
    "## QR Decomposition"
   ]
  },
  {
   "cell_type": "code",
   "execution_count": 1,
   "metadata": {},
   "outputs": [],
   "source": [
    "import math\n",
    "import numpy as np\n",
    "\n",
    "from scipy import linalg"
   ]
  },
  {
   "cell_type": "markdown",
   "metadata": {},
   "source": [
    "### Householder Method\n",
    "Finding the QR decomposition relies on a method called the [householder method](https://www.quantstart.com/articles/QR-Decomposition-with-Python-and-NumPy/)\n",
    "\n",
    "The algorithm work iteratively. At every stage you take the kth column from the bottom triangle of the matrix A. Then you apply the householder transform to the that vector against some identity matrix with the same dimensions\n",
    "\n",
    "**Householder Transform**\n",
    "$$H = I - 2\\frac{vv^T}{v^Tv}$$\n",
    "\n",
    "That spits out \n",
    "\n",
    "$$Q_k = \\left(\\begin{array}{cc} \n",
    "I_{k-1} & 0 \\\\\n",
    "0 & Q'_{k}\\\\\n",
    "\\end{array}\\right)$$\n",
    "\n",
    "Then $R$ from its constituent parts\n",
    "$$\n",
    "R = Q_t \\ldots Q_2Q_1A\n",
    "$$"
   ]
  },
  {
   "cell_type": "code",
   "execution_count": 2,
   "metadata": {},
   "outputs": [],
   "source": [
    "def qk_prime(a):\n",
    "    '''\n",
    "    rhs of householder transform computation for a vector a\n",
    "    '''\n",
    "    v = a / (a[0] + np.sign(a[0]) * np.linalg.norm(a))\n",
    "    v[0] = 1\n",
    "    tau = 2 / (v.T @ v)\n",
    "\n",
    "    return tau * (v @ v.T)\n",
    "\n",
    "def qr_decomposition(A):\n",
    "    m,n = A.shape\n",
    "    R = A.copy()\n",
    "    Q = np.identity(m)\n",
    "\n",
    "    for j in range(0, n):\n",
    "        # compute householder transform\n",
    "        Qk = np.identity(m) \n",
    "        Qk[j:, j:] -= qk_prime(R[j:, j, np.newaxis])\n",
    "        \n",
    "        # update the orthogonal\n",
    "        # and upper triangle matrices\n",
    "        R = Qk @ R\n",
    "        Q = Qk @ Q\n",
    "\n",
    "    return Q[:n].T, np.triu(R[:n])"
   ]
  },
  {
   "cell_type": "code",
   "execution_count": 7,
   "metadata": {},
   "outputs": [
    {
     "name": "stdout",
     "output_type": "stream",
     "text": [
      "[[-0.24240934 -0.60049969  0.76199596]\n",
      " [-0.18092289 -0.74366333 -0.64360839]\n",
      " [-0.95315509  0.29387919 -0.0716268 ]]\n"
     ]
    }
   ],
   "source": [
    "X = np.random.randn(3,3)\n",
    "q, r = linalg.qr(X)\n",
    "Q, R = qr_decomposition(X)\n",
    "res = Q @ R\n",
    "print(Q)"
   ]
  },
  {
   "cell_type": "markdown",
   "metadata": {},
   "source": [
    "### Applications"
   ]
  },
  {
   "cell_type": "markdown",
   "metadata": {},
   "source": [
    "### Low Rank Approximation\n"
   ]
  },
  {
   "cell_type": "code",
   "execution_count": 81,
   "metadata": {},
   "outputs": [],
   "source": [
    "def gen_matrix(r, c, rank):\n",
    "    X = np.random.randn(r, c) * 10\n",
    "    u, s, v = np.linalg.svd(X)\n",
    "    return np.dot(u[:, :rank] * s[:rank], v[:, :rank].T)"
   ]
  },
  {
   "cell_type": "code",
   "execution_count": 92,
   "metadata": {},
   "outputs": [
    {
     "name": "stdout",
     "output_type": "stream",
     "text": [
      "Sum of squared residuals (rank 2 approx vs rank 2 mat) 7.884418228651131e-28\n",
      "Sum of squared residuals (rank 2 approx vs rank 10 mat) 5505.414262381858\n",
      "Sum of squared residuals (rank 5 approx vs rank 10 mat) 1831.2186819785015\n",
      "Sum of squared residuals (rank 9 approx vs rank 10 mat) 5.830356852864459\n"
     ]
    }
   ],
   "source": [
    "ssr = lambda X, X_tilda : np.sum(np.power((X - X_tilda), 2))\n",
    "\n",
    "# low rank approximations work great when\n",
    "# the rank of the matrix is also low\n",
    "rank_2 = gen_matrix(10, 10, 2)\n",
    "Q, R = qr_decomposition(rank_2)\n",
    "print(\"Sum of squared residuals (rank 2 approx vs rank 2 mat)\", ssr(rank_2, Q[:, :2] @ R[:2, :]))\n",
    "\n",
    "# when the rank of the matrix is higher, not as well\n",
    "rank_10 = gen_matrix(10, 10, 10)\n",
    "Q, R = qr_decomposition(rank_10)\n",
    "print(\"Sum of squared residuals (rank 2 approx vs rank 10 mat)\", ssr(rank_10, Q[:, :2] @ R[:2, :]))\n",
    "print(\"Sum of squared residuals (rank 5 approx vs rank 10 mat)\", ssr(rank_10, Q[:, :5] @ R[:5, :]))\n",
    "print(\"Sum of squared residuals (rank 9 approx vs rank 10 mat)\", ssr(rank_10, Q[:, :9] @ R[:9, :]))"
   ]
  },
  {
   "cell_type": "markdown",
   "metadata": {},
   "source": [
    "### Refs\n",
    "- [Toronto Course](https://www.cs.toronto.edu/~lczhang/csc338_20191/hw/a3/a3.html)\n",
    "- [Scipy Docs](https://docs.scipy.org/doc/scipy/reference/generated/scipy.linalg.qr.html)\n",
    "- [Stack Overflow Post](https://stackoverflow.com/questions/53489237/how-can-you-implement-householder-based-qr-decomposition-in-python)"
   ]
  }
 ],
 "metadata": {
  "kernelspec": {
   "display_name": "Python 3",
   "language": "python",
   "name": "python3"
  },
  "language_info": {
   "codemirror_mode": {
    "name": "ipython",
    "version": 3
   },
   "file_extension": ".py",
   "mimetype": "text/x-python",
   "name": "python",
   "nbconvert_exporter": "python",
   "pygments_lexer": "ipython3",
   "version": "3.6.8"
  }
 },
 "nbformat": 4,
 "nbformat_minor": 2
}

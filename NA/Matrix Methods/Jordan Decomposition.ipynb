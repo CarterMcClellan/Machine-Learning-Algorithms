{
 "cells": [
  {
   "cell_type": "markdown",
   "metadata": {},
   "source": [
    "### About Jordan Canonical Form\n",
    "[Reference](https://github.com/sympy/sympy/blob/58e1e9abade7c38c66871fd06bf76ebac8c1df78/sympy/matrices/eigen.py)"
   ]
  },
  {
   "cell_type": "code",
   "execution_count": 21,
   "metadata": {},
   "outputs": [],
   "source": [
    "import sympy"
   ]
  },
  {
   "cell_type": "code",
   "execution_count": 22,
   "metadata": {},
   "outputs": [],
   "source": [
    "# TODO implement simplified version in numpy"
   ]
  },
  {
   "cell_type": "markdown",
   "metadata": {},
   "source": [
    "### Application of Jordan Decomposition (Markov Chains)\n",
    "One of the real world applications of the Jordan Decomposition is discrete time Markov Chains. For example suppose you have a transition probability matrix $P$, and you wanted to find the n-step transition probabilities\n",
    "$$P^N = \\left(\\begin{array}{cc} \n",
    "1 & 0 & 0\\\\\n",
    "0.5 & 0.25 & 0.5\\\\\n",
    "0.5 & 0 & 0.25\\\\\n",
    "\\end{array}\\right)^N$$\n",
    "it can be expensive to compute the. Instead, we can compute the Jordan Form $UJU^{-1}$, and use the fact\n",
    "$$\n",
    "P^N = U J^N U^{-1}\n",
    "$$\n",
    "to see why this is useful consider\n",
    "$$J(P) = \\left(\\begin{array}{cc} \n",
    ".25 & 0 & 0\\\\\n",
    "0 & 0.5 & 0\\\\\n",
    "0 & 0 & 1\\\\\n",
    "\\end{array}\\right)$$\n",
    "thus\n",
    "$$\n",
    "J(P^N) = \\left(\\begin{array}{cc} \n",
    ".25 & 0 & 0\\\\\n",
    "0 & 0.5 & 0\\\\\n",
    "0 & 0 & 1\\\\\n",
    "\\end{array}\\right)^N = \n",
    "\\left(\\begin{array}{cc} \n",
    ".25^N & 0 & 0\\\\\n",
    "0 & 0.5^N & 0\\\\\n",
    "0 & 0 & 1^N\\\\\n",
    "\\end{array}\\right)\n",
    "$$"
   ]
  },
  {
   "cell_type": "markdown",
   "metadata": {},
   "source": [
    "### foo\n",
    "$$ A = U \\Sigma V^T \\implies A^{-1} = $$"
   ]
  },
  {
   "cell_type": "code",
   "execution_count": 1,
   "metadata": {},
   "outputs": [],
   "source": [
    "import numpy as np"
   ]
  },
  {
   "cell_type": "code",
   "execution_count": 12,
   "metadata": {},
   "outputs": [],
   "source": [
    "P = np.array([[1, 0, 0], [1/2, 1/4, 1/2], [1/2, 0, 1/2]])\n",
    "P = sympy.Matrix(P)\n",
    "U, J = P.jordan_form()"
   ]
  },
  {
   "cell_type": "code",
   "execution_count": 20,
   "metadata": {},
   "outputs": [
    {
     "data": {
      "text/plain": [
       "Matrix([\n",
       "[0.25,   0,   0],\n",
       "[   0, 0.5,   0],\n",
       "[   0,   0, 1.0]])"
      ]
     },
     "execution_count": 20,
     "metadata": {},
     "output_type": "execute_result"
    }
   ],
   "source": [
    "J"
   ]
  },
  {
   "cell_type": "code",
   "execution_count": 17,
   "metadata": {},
   "outputs": [
    {
     "data": {
      "text/plain": [
       "Matrix([\n",
       "[  1.0,      0,     0],\n",
       "[0.875, 0.0625, 0.375],\n",
       "[ 0.75,      0,  0.25]])"
      ]
     },
     "execution_count": 17,
     "metadata": {},
     "output_type": "execute_result"
    }
   ],
   "source": [
    "P @ P "
   ]
  }
 ],
 "metadata": {
  "kernelspec": {
   "display_name": "Python 3",
   "language": "python",
   "name": "python3"
  },
  "language_info": {
   "codemirror_mode": {
    "name": "ipython",
    "version": 3
   },
   "file_extension": ".py",
   "mimetype": "text/x-python",
   "name": "python",
   "nbconvert_exporter": "python",
   "pygments_lexer": "ipython3",
   "version": "3.6.8"
  }
 },
 "nbformat": 4,
 "nbformat_minor": 2
}
